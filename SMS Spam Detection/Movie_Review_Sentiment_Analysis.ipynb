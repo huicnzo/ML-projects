{
  "nbformat": 4,
  "nbformat_minor": 0,
  "metadata": {
    "colab": {
      "name": "Movie Review Sentiment Analysis",
      "provenance": []
    },
    "kernelspec": {
      "name": "python3",
      "display_name": "Python 3"
    }
  },
  "cells": [
    {
      "cell_type": "code",
      "metadata": {
        "id": "ho7HptvAT4Hh"
      },
      "source": [
        "import numpy as np # linear algebra\r\n",
        "import pandas as pd # data processing, CSV file I/O (e.g. pd.read_csv)\r\n",
        "import re # for regex\r\n",
        "from nltk.corpus import stopwords\r\n",
        "from nltk.tokenize import word_tokenize\r\n",
        "from nltk.stem import SnowballStemmer\r\n",
        "from sklearn.feature_extraction.text import CountVectorizer\r\n",
        "from sklearn.model_selection import train_test_split\r\n",
        "from sklearn.naive_bayes import GaussianNB,MultinomialNB,BernoulliNB\r\n",
        "from sklearn.metrics import accuracy_score\r\n",
        "import pickle"
      ],
      "execution_count": 2,
      "outputs": []
    },
    {
      "cell_type": "code",
      "metadata": {
        "colab": {
          "base_uri": "https://localhost:8080/",
          "height": 230
        },
        "id": "yQdeKFKlH4Ai",
        "outputId": "57810ef2-5966-4801-a809-6a04715fdc16"
      },
      "source": [
        "data = pd.read_csv(\"/content/IMDB-Dataset.csv\" , engine ='python' , error_bad_lines=False )\r\n",
        "print(data.shape)\r\n",
        "data.head()"
      ],
      "execution_count": 37,
      "outputs": [
        {
          "output_type": "stream",
          "text": [
            "(7886, 2)\n"
          ],
          "name": "stdout"
        },
        {
          "output_type": "stream",
          "text": [
            "Skipping line 7888: unexpected end of data\n"
          ],
          "name": "stderr"
        },
        {
          "output_type": "execute_result",
          "data": {
            "text/html": [
              "<div>\n",
              "<style scoped>\n",
              "    .dataframe tbody tr th:only-of-type {\n",
              "        vertical-align: middle;\n",
              "    }\n",
              "\n",
              "    .dataframe tbody tr th {\n",
              "        vertical-align: top;\n",
              "    }\n",
              "\n",
              "    .dataframe thead th {\n",
              "        text-align: right;\n",
              "    }\n",
              "</style>\n",
              "<table border=\"1\" class=\"dataframe\">\n",
              "  <thead>\n",
              "    <tr style=\"text-align: right;\">\n",
              "      <th></th>\n",
              "      <th>review</th>\n",
              "      <th>sentiment</th>\n",
              "    </tr>\n",
              "  </thead>\n",
              "  <tbody>\n",
              "    <tr>\n",
              "      <th>0</th>\n",
              "      <td>One of the other reviewers has mentioned that ...</td>\n",
              "      <td>positive</td>\n",
              "    </tr>\n",
              "    <tr>\n",
              "      <th>1</th>\n",
              "      <td>A wonderful little production. &lt;br /&gt;&lt;br /&gt;The...</td>\n",
              "      <td>positive</td>\n",
              "    </tr>\n",
              "    <tr>\n",
              "      <th>2</th>\n",
              "      <td>I thought this was a wonderful way to spend ti...</td>\n",
              "      <td>positive</td>\n",
              "    </tr>\n",
              "    <tr>\n",
              "      <th>3</th>\n",
              "      <td>Basically there's a family where a little boy ...</td>\n",
              "      <td>negative</td>\n",
              "    </tr>\n",
              "    <tr>\n",
              "      <th>4</th>\n",
              "      <td>Petter Mattei's \"Love in the Time of Money\" is...</td>\n",
              "      <td>positive</td>\n",
              "    </tr>\n",
              "  </tbody>\n",
              "</table>\n",
              "</div>"
            ],
            "text/plain": [
              "                                              review sentiment\n",
              "0  One of the other reviewers has mentioned that ...  positive\n",
              "1  A wonderful little production. <br /><br />The...  positive\n",
              "2  I thought this was a wonderful way to spend ti...  positive\n",
              "3  Basically there's a family where a little boy ...  negative\n",
              "4  Petter Mattei's \"Love in the Time of Money\" is...  positive"
            ]
          },
          "metadata": {
            "tags": []
          },
          "execution_count": 37
        }
      ]
    },
    {
      "cell_type": "code",
      "metadata": {
        "id": "CKkBt24WIAa1",
        "colab": {
          "base_uri": "https://localhost:8080/"
        },
        "outputId": "b1a53b8c-db88-434e-e851-7512cf7f4fd5"
      },
      "source": [
        "data.info()"
      ],
      "execution_count": 38,
      "outputs": [
        {
          "output_type": "stream",
          "text": [
            "<class 'pandas.core.frame.DataFrame'>\n",
            "RangeIndex: 7886 entries, 0 to 7885\n",
            "Data columns (total 2 columns):\n",
            " #   Column     Non-Null Count  Dtype \n",
            "---  ------     --------------  ----- \n",
            " 0   review     7886 non-null   object\n",
            " 1   sentiment  7886 non-null   object\n",
            "dtypes: object(2)\n",
            "memory usage: 123.3+ KB\n"
          ],
          "name": "stdout"
        }
      ]
    },
    {
      "cell_type": "code",
      "metadata": {
        "id": "LABiqzHGIEFf",
        "colab": {
          "base_uri": "https://localhost:8080/"
        },
        "outputId": "1ac5be49-d25f-4109-ef7d-9daa714d2800"
      },
      "source": [
        "data.value_counts()"
      ],
      "execution_count": 39,
      "outputs": [
        {
          "output_type": "execute_result",
          "data": {
            "text/plain": [
              "review                                                                                                                                                                                                                                                                                                                                                                                                                                                                                                                                                                                                                                                                                                                                                                                                                                                                                                                                                                                                                                                                                                                                                                                                                                                                                                                                                                                                                                                                                                                                                                                                                                                                                                                                                                                                                                                                                                                                                                                                                                                                                                                                                                                                                                                                                                                                                                                                                                                                                                                                                                                                                                                                                                                                                                                                                                                                                                                                                                                                                                                                                                                                                                                                                                                                                                                                                                                                                                                                                                                                                                                                                                                                                                                                                                                                                                                    sentiment\n",
              "Quite what the producers of this appalling adaptation were trying to do is impossible to fathom.<br /><br />A group of top quality actors, in the main well cast (with a couple of notable exceptions), who give pretty good performances. Penelope Keith is perfect as Aunt Louise and equally good is Joanna Lumley as Diana. All do well with the scripts they were given.<br /><br />So much for the good. The average would include the sets. Nancherrow is nothing like the house described in the book, although bizarrely the house they use for the Dower House looks remarkably like it. It is clear then that the Dower House is far too big. In the later parts, the writers decided to bring the entire story back to the UK, presumably to save money, although with a little imagination I have no doubt they could have recreated Ceylon.<br /><br />Now to the bad. The screenplay. This is such an appallingly bad adaptation is hard to find words to condemn it. Edward does not die in the battle of Britain but survives, blinded. He makes a brief appearance then commits suicide - why?? Loveday has changed from the young woman totally in love with Gus to a sensible farmer's wife who can give up the love her life with barely a tear (less emotional than Brief Encounter). Gus, a man besotted and passionately in love, is prepared to give up his love without complaint. Walter (Mudge in the book) turns from a shallow unfaithful husband to a devoted family man. Jess is made into a psychologically disturbed young woman who won't speak. Aunt Biddy still has a drink problem but now without any justification. The Dower House is occupied by the army for no obvious reason other than a very short scene with Jess who has a fear of armed soldiers. Whilst Miss Mortimer's breasts are utterly delightful, I could not see how their display on several occasions moved the plot forward. The delightfully named Nettlebed becomes the mundane Dobson. The word limit prevents me from continuing the list.<br /><br />There is a sequel (which I lost all interest in watching after this nonsense) and I wonder if the changes were made to create the follow on story. It is difficult to image that Rosamunde Pilcher would have approved this grotesque perversion of her book; presumably she lost her control when the rights were purchased.                                                                                                                                                                                                                                                                                                                                                                                                                                                                                                                                                                                                                                                                                                                                                                                                                                                                                                                                                                                                                                                                                                                                                                                                                                                                                                                                                                                                                                                      negative     2\n",
              "I have always been a huge fan of \"Homicide: Life On The Street\" so when I heard there was a reunion movie coming up, I couldn't wait.<br /><br />Let me just say, I was not disappointed at all. It was one of the most powerful 2 hours of television I've ever seen. It was great to see everyone back again, but the biggest pleasure of all was to have Andre Braugher back, because the relationship between Pembleton and Bayliss was always the strongest part of an all-together great show.                                                                                                                                                                                                                                                                                                                                                                                                                                                                                                                                                                                                                                                                                                                                                                                                                                                                                                                                                                                                                                                                                                                                                                                                                                                                                                                                                                                                                                                                                                                                                                                                                                                                                                                                                                                                                                                                                                                                                                                                                                                                                                                                                                                                                                                                                                                                                                                                                                                                                                                                                                                                                                                                                                                                                                                                                                                                                                                                                                                                                                                                                                                                                                                                                                                                                                                                                      positive     2\n",
              "Sigh. I'm baffled when I see a short like this get attention and assignments and whatnot. I saw this film at a festival before the filmmaker got any attention and forgot about it immediately afterwards. It was mildly annoying to see it swiping the Grinch Who Stole Christmas heart gag along with the narration, the set design seen many times before, the whole weak Tim Burton-ish style, and the story that goes nowhere. And we got the \"joke\" about shooting the crows with the 45 the first time, alright?<br /><br />But I guess what's really unacceptable is that it even swipes its basic concept from a comic book circa 1999 called LENORE, THE CUTE LITTLE DEAD GIRL by Roman Dirge! As any quick internet search will reveal. I mean, what is this? This is what they base a Hollywood contract on and opens doors in Canada for a filmmaker? \"Give your head a shake\" as Don Cherry might say.                                                                                                                                                                                                                                                                                                                                                                                                                                                                                                                                                                                                                                                                                                                                                                                                                                                                                                                                                                                                                                                                                                                                                                                                                                                                                                                                                                                                                                                                                                                                                                                                                                                                                                                                                                                                                                                                                                                                                                                                                                                                                                                                                                                                                                                                                                                                                                                                                                                                                                                                                                                                                                                                                                                                                                                                                                                                                                                                      negative     2\n",
              "My favourite police series of all time turns to a TV-film. Does it work? Yes. Gee runs for mayor and gets shot. The Homicide \"hall of fame\" turns up. Pembleton and nearly all of the cops who ever played in this series. A lot of flashbacks helps you who hasn´t seen the TV-series but it amuses the fans too. The last five minutes solves another murder and at the very end even two of the dead cops turn up. And a short appearance from my favourite coroner Juliana Cox. This is a good film.                                                                                                                                                                                                                                                                                                                                                                                                                                                                                                                                                                                                                                                                                                                                                                                                                                                                                                                                                                                                                                                                                                                                                                                                                                                                                                                                                                                                                                                                                                                                                                                                                                                                                                                                                                                                                                                                                                                                                                                                                                                                                                                                                                                                                                                                                                                                                                                                                                                                                                                                                                                                                                                                                                                                                                                                                                                                                                                                                                                                                                                                                                                                                                                                                                                                                                                                                  positive     2\n",
              "If you liked the Grinch movie... go watch that again, because this was no where near as good a Seussian movie translation. Mike Myers' Cat is probably the most annoying character to \"grace\" the screen in recent times. His voice/accent is terrible and he laughs at his own jokes with an awful weasing sound, which is about the only laughing I heard at the theater. Not even the kids liked this one folks, and kids laugh at anything now. Save your money and go see Looney Tunes: Back in Action if you're really looking for a fun holiday family movie.                                                                                                                                                                                                                                                                                                                                                                                                                                                                                                                                                                                                                                                                                                                                                                                                                                                                                                                                                                                                                                                                                                                                                                                                                                                                                                                                                                                                                                                                                                                                                                                                                                                                                                                                                                                                                                                                                                                                                                                                                                                                                                                                                                                                                                                                                                                                                                                                                                                                                                                                                                                                                                                                                                                                                                                                                                                                                                                                                                                                                                                                                                                                                                                                                                                                                      negative     2\n",
              "                                                                                                                                                                                                                                                                                                                                                                                                                                                                                                                                                                                                                                                                                                                                                                                                                                                                                                                                                                                                                                                                                                                                                                                                                                                                                                                                                                                                                                                                                                                                                                                                                                                                                                                                                                                                                                                                                                                                                                                                                                                                                                                                                                                                                                                                                                                                                                                                                                                                                                                                                                                                                                                                                                                                                                                                                                                                                                                                                                                                                                                                                                                                                                                                                                                                                                                                                                                                                                                                                                                                                                                                                                                                                                                                                                                                                                                                      ..\n",
              "Superb silent version of the story of Francois Villon. Although remade in the thirties as IF I WERE KING, with Frank Lloyd directing, Preston Sturges scripting and Ronald Colman starring, this version is even better. Barrymore, with a cohort of comedians, plays the comic fool and the wine-depressed Villon with a verve that Colman could not match. The photography is startling in its beauty and innovation and the supporting cast, particularly Conrad Veidt in his American premiere, the incredibly beautiful Marceline Day, and the supporting comics, Slim Summerville and Hank Mann, steal every scene they are in.<br /><br />It is a shame that Barrymore did so few first-rate comedies. Among his sound films, only his lead in TWENTIETH CENTURY and his supporting role in MIDNIGHT can compare to this, and those stand up only because of his superb voice. In this silent movie, Barrymore must tell his tale without benefit of words, and he does so, alternately hilariously unrecognizable as the King of the Fools and tenderly as Villon in love. He even gets to leap around in the swashbuckling style of Fairbanks, most convincingly. He also lets his supporting cast have their share of glory, capering in this ensemble work like any talented comic of the era.<br /><br />Finally, a brief word about Alan Crosland, a director known today only for directing the first talking feature, THE JAZZ SINGER in the same year this was released. Crosland was a careful, innovative, delightfully original director, and it is a shame that more of his works are not known. Perhaps this movie, far more interesting as a movie than his best-known work, will be your introduction to his other talents. If so, you could do far worse.                                                                                                                                                                                                                                                                                                                                                                                                                                                                                                                                                                                                                                                                                                                                                                                                                                                                                                                                                                                                                                                                                                                                                                                                                                                                                                                                                                                                                                                                                                                                                                                                                                                                                                                                                                                                                                                                                                                                                                                                                                                                         positive     1\n",
              "Supposedly a \"social commentary\" on racism and prison conditions in the rural South of the 1970's, \"Nightmare\" is full of bad Southern stereotypes, complete with phoney accents. Not only would it be offensive to the sensibilities of most American Southerners, this tawdry piece of work comes off as just a thinly-disguised \"babe in prison\" movie--especially in its uncut original version. Nevertheless, acting is generally above average and the late Chuck Connors, in particular, does a good job of making viewers hate him--even though he looks somewhat uncomfortable in several scenes. There's also a change-of-pace role for the late Robert Reed, who appears as the lecherous warden, and Tina Louise (previously Ginger of \"Gilligan's Island\") made a rather believable sadistic prison guard. My grade: D. <br /><br />                                                                                                                                                                                                                                                                                                                                                                                                                                                                                                                                                                                                                                                                                                                                                                                                                                                                                                                                                                                                                                                                                                                                                                                                                                                                                                                                                                                                                                                                                                                                                                                                                                                                                                                                                                                                                                                                                                                                                                                                                                                                                                                                                                                                                                                                                                                                                                                                                                                                                                                                                                                                                                                                                                                                                                                                                                                                                                                                                                                                         negative     1\n",
              "Supposedly, director William Shatner had in mind a much 'darker' film when it came to 'Star Trek V: The Final Frontier' but the suits at Paramount, looking at the huge box-office receipts taken in by its humor-filled predecessor, insisted the new film have plenty of laughs too. So what we get is arguably the weakest and goofiest of the six Star Trek movies with the original cast. There are bad ideas aplenty, along with a few good ones, and if you're in a charitable mood, you could look at 'The Final Frontier' the same way you would a so-so episode of the TV series. On the plus side, Laurence Luckenbill is a fine actor and gives one of the best 'guest star' performances in any Star Trek, big or small screen, ranking right up there with William Windom's Commodore Decker. His portrayal of Sybok, Spock's half-brother, consistently lifts the film when it threatens to sink, which happens all too frequently. Charles Cooper is good too as the fat old Klingon General Korrd; too bad his role isn't as large as he is. If the story about Shatner's intentions is true, then I owe him an apology, because I was prepared to lay the blame for the incessant silliness and not-very-convincing action scenes squarely at his directorial feet. The reason is I've always felt that, of all the Trek regulars, Shatner was the least 'tuned-in' to everything that makes Star Trek work and what makes it special to its fans. Having read his Trek memoirs, it's very apparent to me that he considered the show another action-adventure series that just happened to have a science-fiction setting. He preferred the vision of Gene Coon over that of Gene Roddenberry; Coon was known for his work on the popular western series, 'The Wild Wild West.' Shatner also mentioned that a favorite Star Trek episode of his was 'A Piece of the Action,' a silly second-season episode co-written by Coon. So, finally given an opportunity to direct a Star Trek feature film, would not Shatner follow his instincts and produce an action-filled flick with lots of tongue-in-cheek humor? Well somebody did, because that's what 'The Final Frontier' ended up being. Shatner himself definitely returns to form as The Great Ham and, as Leonard Maltin points out, the film suffers from a bad case of 'the cutes.' In the opening scene at Yosemite National Park, it's hard to say which is worse, the super-cheesy special effects or the godawful dialogue. Running gags about equipment malfunctioning on the Enterprise have run all the way from 'Wrath of Khan' and by this, the fifth Trek movie, have run themselves into the ground. So has the idea of a 'skeleton crew'. One new development is an apparent romantic relationship between Scotty and Uhura and suffice it to say one does not exactly sense flames of passion burning between the two. It's a pointless subplot and adds nothing. The climactic scene where 'God' is encountered doesn't add much either; whether or not this was a good idea in the first place is debatable, but the scene itself doesn't make much sense. (The 'God' creature's abilities seem to vary according to what is needed at the moment.) Roughly half of this is a tired retread of the climax from 'The Search for Spock.' Leonard Nimoy manages to salvage Spock's integrity, even while spouting such un-Spock-like lines as \"Get a grip on yourself, Doctor.\" And DeForest Kelley, as usual, outperforms both Shatner and Nimoy; he really came on as an actor in the final Trek films. So this Trek outing isn't terrible, it just isn't very good. There was to be one more original cast Trek movie before the baton was passed to the 'next generation,' and it was far better suited to the task than 'Star Trek V: The Final Frontier.'  negative     1\n",
              "Sure this movie wasn't like. 16 blocks, inside man, an American haunting. etc...<br /><br />But It was a great mystery that can happen to anyone of us.. i found this movie really great and scary.<br /><br />I live exactly where they filmed this movie \"san pedro, California\" And we have heard true stories based on incidents of this movie.<br /><br />I dunno if you've heard of the famous boat in long beach \"Queen Mary\" Well that boat is haunted. i believe in spirts, illusions, and parallel or however u spell that. is real. everybody's in there own universe.<br /><br />and the mind is a powerful thing.<br /><br />i recommend to watch this movie. it's great, and not bad directing at all.<br /><br />for those who rate it a 1. they don't understand the film. its meaning. its plot, its view. and how bad the ocean life can be for each and everyone of us.<br /><br />Ty.<br /><br />Victor                                                                                                                                                                                                                                                                                                                                                                                                                                                                                                                                                                                                                                                                                                                                                                                                                                                                                                                                                                                                                                                                                                                                                                                                                                                                                                                                                                                                                                                                                                                                                                                                                                                                                                                                                                                                                                                                                                                                                                                                                                                                                                                                                                                                                                                                                                                                                                                                                                                                                                                                                                                                                                                                                                                                                                                                                                                                                                                               positive     1\n",
              "\" Now in India's sunny 'clime, where I use to spend my time as a soldier in the service of her Majesty the queen . . . \" so goes the famous poem penned by Rudyard Kipling. This is the literal foundation upon which the movie \"Gunga Din\" is based. If you are fortunate enough to watch this legendary Classic, you will enjoy films the way they use to make them; for the sheer pleasure. Taken from the script of the established novelist and poet, this is a story of a humble Indian native named Gunga Din (Sam Jaffe) who works as 'a regimental beasty' during the British occupation of India during the 18th century. His greatest wish is to become a soldier. The water boy is part of a British Calvary contingent threatened with death by a notorious blood cult of Kali called the 'Thuggee.' Three particular soldiers stand out in this company who are noted for their bravery and comradeship. First is handsome and debonair, Cary Grant playing Sgt. Archibald Cutter. Next is Victor McLaglen as courageous Sgt. MacChesney and finally there's flamboyant Douglas Fairbanks Jr. as Sgt. Thomas Ballantine. All three and their fellow soldiers are surrounded by a hoard of mountain stranglers led by their fanatical leader called the 'Guru' (Eduardo Ciannelli). Amid the Chaos of war, is the brave water-boy who hopes to earn a place in the army by playing a bugle he found. A solid story for an old black and white film which needs little fanfare for anyone looking to enjoy a classic. ****                                                                                                                                                                                                                                                                                                                                                                                                                                                                                                                                                                                                                                                                                                                                                                                                                                                                                                                                                                                                                                                                                                                                                                                                                                                                                                                                                                                                                                                                                                                                                                                                                                                                                                                                                                                                                                                                                                                                                                                                                                                                                                                                                                                                                                                                                                                    positive     1\n",
              "Length: 7876, dtype: int64"
            ]
          },
          "metadata": {
            "tags": []
          },
          "execution_count": 39
        }
      ]
    },
    {
      "cell_type": "code",
      "metadata": {
        "id": "HmFZkl4nIHT_",
        "colab": {
          "base_uri": "https://localhost:8080/",
          "height": 345
        },
        "outputId": "cd316482-e5db-4465-c773-25f07ede1e35"
      },
      "source": [
        "data.sentiment.replace('positive',1,inplace=True)\r\n",
        "data.sentiment.replace('negative',0,inplace=True)\r\n",
        "data.head(10)"
      ],
      "execution_count": 40,
      "outputs": [
        {
          "output_type": "execute_result",
          "data": {
            "text/html": [
              "<div>\n",
              "<style scoped>\n",
              "    .dataframe tbody tr th:only-of-type {\n",
              "        vertical-align: middle;\n",
              "    }\n",
              "\n",
              "    .dataframe tbody tr th {\n",
              "        vertical-align: top;\n",
              "    }\n",
              "\n",
              "    .dataframe thead th {\n",
              "        text-align: right;\n",
              "    }\n",
              "</style>\n",
              "<table border=\"1\" class=\"dataframe\">\n",
              "  <thead>\n",
              "    <tr style=\"text-align: right;\">\n",
              "      <th></th>\n",
              "      <th>review</th>\n",
              "      <th>sentiment</th>\n",
              "    </tr>\n",
              "  </thead>\n",
              "  <tbody>\n",
              "    <tr>\n",
              "      <th>0</th>\n",
              "      <td>One of the other reviewers has mentioned that ...</td>\n",
              "      <td>1</td>\n",
              "    </tr>\n",
              "    <tr>\n",
              "      <th>1</th>\n",
              "      <td>A wonderful little production. &lt;br /&gt;&lt;br /&gt;The...</td>\n",
              "      <td>1</td>\n",
              "    </tr>\n",
              "    <tr>\n",
              "      <th>2</th>\n",
              "      <td>I thought this was a wonderful way to spend ti...</td>\n",
              "      <td>1</td>\n",
              "    </tr>\n",
              "    <tr>\n",
              "      <th>3</th>\n",
              "      <td>Basically there's a family where a little boy ...</td>\n",
              "      <td>0</td>\n",
              "    </tr>\n",
              "    <tr>\n",
              "      <th>4</th>\n",
              "      <td>Petter Mattei's \"Love in the Time of Money\" is...</td>\n",
              "      <td>1</td>\n",
              "    </tr>\n",
              "    <tr>\n",
              "      <th>5</th>\n",
              "      <td>Probably my all-time favorite movie, a story o...</td>\n",
              "      <td>1</td>\n",
              "    </tr>\n",
              "    <tr>\n",
              "      <th>6</th>\n",
              "      <td>I sure would like to see a resurrection of a u...</td>\n",
              "      <td>1</td>\n",
              "    </tr>\n",
              "    <tr>\n",
              "      <th>7</th>\n",
              "      <td>This show was an amazing, fresh &amp; innovative i...</td>\n",
              "      <td>0</td>\n",
              "    </tr>\n",
              "    <tr>\n",
              "      <th>8</th>\n",
              "      <td>Encouraged by the positive comments about this...</td>\n",
              "      <td>0</td>\n",
              "    </tr>\n",
              "    <tr>\n",
              "      <th>9</th>\n",
              "      <td>If you like original gut wrenching laughter yo...</td>\n",
              "      <td>1</td>\n",
              "    </tr>\n",
              "  </tbody>\n",
              "</table>\n",
              "</div>"
            ],
            "text/plain": [
              "                                              review  sentiment\n",
              "0  One of the other reviewers has mentioned that ...          1\n",
              "1  A wonderful little production. <br /><br />The...          1\n",
              "2  I thought this was a wonderful way to spend ti...          1\n",
              "3  Basically there's a family where a little boy ...          0\n",
              "4  Petter Mattei's \"Love in the Time of Money\" is...          1\n",
              "5  Probably my all-time favorite movie, a story o...          1\n",
              "6  I sure would like to see a resurrection of a u...          1\n",
              "7  This show was an amazing, fresh & innovative i...          0\n",
              "8  Encouraged by the positive comments about this...          0\n",
              "9  If you like original gut wrenching laughter yo...          1"
            ]
          },
          "metadata": {
            "tags": []
          },
          "execution_count": 40
        }
      ]
    },
    {
      "cell_type": "code",
      "metadata": {
        "id": "rnrTnf-EIJuF",
        "colab": {
          "base_uri": "https://localhost:8080/",
          "height": 153
        },
        "outputId": "f7ebce20-9f55-4cf5-d3f9-f3a24c89f09e"
      },
      "source": [
        "data.review[0]"
      ],
      "execution_count": 41,
      "outputs": [
        {
          "output_type": "execute_result",
          "data": {
            "application/vnd.google.colaboratory.intrinsic+json": {
              "type": "string"
            },
            "text/plain": [
              "\"One of the other reviewers has mentioned that after watching just 1 Oz episode you'll be hooked. They are right, as this is exactly what happened with me.<br /><br />The first thing that struck me about Oz was its brutality and unflinching scenes of violence, which set in right from the word GO. Trust me, this is not a show for the faint hearted or timid. This show pulls no punches with regards to drugs, sex or violence. Its is hardcore, in the classic use of the word.<br /><br />It is called OZ as that is the nickname given to the Oswald Maximum Security State Penitentary. It focuses mainly on Emerald City, an experimental section of the prison where all the cells have glass fronts and face inwards, so privacy is not high on the agenda. Em City is home to many..Aryans, Muslims, gangstas, Latinos, Christians, Italians, Irish and more....so scuffles, death stares, dodgy dealings and shady agreements are never far away.<br /><br />I would say the main appeal of the show is due to the fact that it goes where other shows wouldn't dare. Forget pretty pictures painted for mainstream audiences, forget charm, forget romance...OZ doesn't mess around. The first episode I ever saw struck me as so nasty it was surreal, I couldn't say I was ready for it, but as I watched more, I developed a taste for Oz, and got accustomed to the high levels of graphic violence. Not just violence, but injustice (crooked guards who'll be sold out for a nickel, inmates who'll kill on order and get away with it, well mannered, middle class inmates being turned into prison bitches due to their lack of street skills or prison experience) Watching Oz, you may become comfortable with what is uncomfortable viewing....thats if you can get in touch with your darker side.\""
            ]
          },
          "metadata": {
            "tags": []
          },
          "execution_count": 41
        }
      ]
    },
    {
      "cell_type": "code",
      "metadata": {
        "id": "pFJeaINnINUP",
        "colab": {
          "base_uri": "https://localhost:8080/",
          "height": 153
        },
        "outputId": "c7cfbd1b-0ec4-43b1-d766-106cb351a2ca"
      },
      "source": [
        "def clean(text):\r\n",
        "    cleaned = re.compile(r'<.*?>')\r\n",
        "    return re.sub(cleaned,'',text)\r\n",
        "\r\n",
        "data.review = data.review.apply(clean)\r\n",
        "data.review[0]"
      ],
      "execution_count": 42,
      "outputs": [
        {
          "output_type": "execute_result",
          "data": {
            "application/vnd.google.colaboratory.intrinsic+json": {
              "type": "string"
            },
            "text/plain": [
              "\"One of the other reviewers has mentioned that after watching just 1 Oz episode you'll be hooked. They are right, as this is exactly what happened with me.The first thing that struck me about Oz was its brutality and unflinching scenes of violence, which set in right from the word GO. Trust me, this is not a show for the faint hearted or timid. This show pulls no punches with regards to drugs, sex or violence. Its is hardcore, in the classic use of the word.It is called OZ as that is the nickname given to the Oswald Maximum Security State Penitentary. It focuses mainly on Emerald City, an experimental section of the prison where all the cells have glass fronts and face inwards, so privacy is not high on the agenda. Em City is home to many..Aryans, Muslims, gangstas, Latinos, Christians, Italians, Irish and more....so scuffles, death stares, dodgy dealings and shady agreements are never far away.I would say the main appeal of the show is due to the fact that it goes where other shows wouldn't dare. Forget pretty pictures painted for mainstream audiences, forget charm, forget romance...OZ doesn't mess around. The first episode I ever saw struck me as so nasty it was surreal, I couldn't say I was ready for it, but as I watched more, I developed a taste for Oz, and got accustomed to the high levels of graphic violence. Not just violence, but injustice (crooked guards who'll be sold out for a nickel, inmates who'll kill on order and get away with it, well mannered, middle class inmates being turned into prison bitches due to their lack of street skills or prison experience) Watching Oz, you may become comfortable with what is uncomfortable viewing....thats if you can get in touch with your darker side.\""
            ]
          },
          "metadata": {
            "tags": []
          },
          "execution_count": 42
        }
      ]
    },
    {
      "cell_type": "code",
      "metadata": {
        "id": "prpAYaKwIZDr",
        "colab": {
          "base_uri": "https://localhost:8080/",
          "height": 153
        },
        "outputId": "ccdd6073-7394-4835-fc99-ab9968e11855"
      },
      "source": [
        "def is_special(text):\r\n",
        "    rem = ''\r\n",
        "    for i in text:\r\n",
        "        if i.isalnum():\r\n",
        "            rem = rem + i\r\n",
        "        else:\r\n",
        "            rem = rem + ' '\r\n",
        "    return rem\r\n",
        "\r\n",
        "data.review = data.review.apply(is_special)\r\n",
        "data.review[0]"
      ],
      "execution_count": 43,
      "outputs": [
        {
          "output_type": "execute_result",
          "data": {
            "application/vnd.google.colaboratory.intrinsic+json": {
              "type": "string"
            },
            "text/plain": [
              "'One of the other reviewers has mentioned that after watching just 1 Oz episode you ll be hooked  They are right  as this is exactly what happened with me The first thing that struck me about Oz was its brutality and unflinching scenes of violence  which set in right from the word GO  Trust me  this is not a show for the faint hearted or timid  This show pulls no punches with regards to drugs  sex or violence  Its is hardcore  in the classic use of the word It is called OZ as that is the nickname given to the Oswald Maximum Security State Penitentary  It focuses mainly on Emerald City  an experimental section of the prison where all the cells have glass fronts and face inwards  so privacy is not high on the agenda  Em City is home to many  Aryans  Muslims  gangstas  Latinos  Christians  Italians  Irish and more    so scuffles  death stares  dodgy dealings and shady agreements are never far away I would say the main appeal of the show is due to the fact that it goes where other shows wouldn t dare  Forget pretty pictures painted for mainstream audiences  forget charm  forget romance   OZ doesn t mess around  The first episode I ever saw struck me as so nasty it was surreal  I couldn t say I was ready for it  but as I watched more  I developed a taste for Oz  and got accustomed to the high levels of graphic violence  Not just violence  but injustice  crooked guards who ll be sold out for a nickel  inmates who ll kill on order and get away with it  well mannered  middle class inmates being turned into prison bitches due to their lack of street skills or prison experience  Watching Oz  you may become comfortable with what is uncomfortable viewing    thats if you can get in touch with your darker side '"
            ]
          },
          "metadata": {
            "tags": []
          },
          "execution_count": 43
        }
      ]
    },
    {
      "cell_type": "code",
      "metadata": {
        "id": "vWFdMtAcIgC-",
        "colab": {
          "base_uri": "https://localhost:8080/",
          "height": 153
        },
        "outputId": "c5e38d3c-6f65-4031-a668-c868034d826a"
      },
      "source": [
        "def to_lower(text):\r\n",
        "    return text.lower()\r\n",
        "\r\n",
        "data.review = data.review.apply(to_lower)\r\n",
        "data.review[0]"
      ],
      "execution_count": 44,
      "outputs": [
        {
          "output_type": "execute_result",
          "data": {
            "application/vnd.google.colaboratory.intrinsic+json": {
              "type": "string"
            },
            "text/plain": [
              "'one of the other reviewers has mentioned that after watching just 1 oz episode you ll be hooked  they are right  as this is exactly what happened with me the first thing that struck me about oz was its brutality and unflinching scenes of violence  which set in right from the word go  trust me  this is not a show for the faint hearted or timid  this show pulls no punches with regards to drugs  sex or violence  its is hardcore  in the classic use of the word it is called oz as that is the nickname given to the oswald maximum security state penitentary  it focuses mainly on emerald city  an experimental section of the prison where all the cells have glass fronts and face inwards  so privacy is not high on the agenda  em city is home to many  aryans  muslims  gangstas  latinos  christians  italians  irish and more    so scuffles  death stares  dodgy dealings and shady agreements are never far away i would say the main appeal of the show is due to the fact that it goes where other shows wouldn t dare  forget pretty pictures painted for mainstream audiences  forget charm  forget romance   oz doesn t mess around  the first episode i ever saw struck me as so nasty it was surreal  i couldn t say i was ready for it  but as i watched more  i developed a taste for oz  and got accustomed to the high levels of graphic violence  not just violence  but injustice  crooked guards who ll be sold out for a nickel  inmates who ll kill on order and get away with it  well mannered  middle class inmates being turned into prison bitches due to their lack of street skills or prison experience  watching oz  you may become comfortable with what is uncomfortable viewing    thats if you can get in touch with your darker side '"
            ]
          },
          "metadata": {
            "tags": []
          },
          "execution_count": 44
        }
      ]
    },
    {
      "cell_type": "code",
      "metadata": {
        "id": "L3vn6YGlL0Eg",
        "colab": {
          "base_uri": "https://localhost:8080/"
        },
        "outputId": "72f954e2-5371-42bf-d95f-da0856efc317"
      },
      "source": [
        "import nltk\r\n",
        "nltk.download('stopwords')\r\n",
        "import nltk\r\n",
        "nltk.download('punkt')\r\n",
        "\r\n",
        "def rem_stopwords(text):\r\n",
        "    stop_words = set(stopwords.words('english'))\r\n",
        "    words = word_tokenize(text)\r\n",
        "    return [w for w in words if w not in stop_words]\r\n",
        "\r\n",
        "data.review = data.review.apply(rem_stopwords)\r\n",
        "data.review[0]"
      ],
      "execution_count": 47,
      "outputs": [
        {
          "output_type": "stream",
          "text": [
            "[nltk_data] Downloading package stopwords to /root/nltk_data...\n",
            "[nltk_data]   Package stopwords is already up-to-date!\n",
            "[nltk_data] Downloading package punkt to /root/nltk_data...\n",
            "[nltk_data]   Unzipping tokenizers/punkt.zip.\n"
          ],
          "name": "stdout"
        },
        {
          "output_type": "execute_result",
          "data": {
            "text/plain": [
              "['one',\n",
              " 'reviewers',\n",
              " 'mentioned',\n",
              " 'watching',\n",
              " '1',\n",
              " 'oz',\n",
              " 'episode',\n",
              " 'hooked',\n",
              " 'right',\n",
              " 'exactly',\n",
              " 'happened',\n",
              " 'first',\n",
              " 'thing',\n",
              " 'struck',\n",
              " 'oz',\n",
              " 'brutality',\n",
              " 'unflinching',\n",
              " 'scenes',\n",
              " 'violence',\n",
              " 'set',\n",
              " 'right',\n",
              " 'word',\n",
              " 'go',\n",
              " 'trust',\n",
              " 'show',\n",
              " 'faint',\n",
              " 'hearted',\n",
              " 'timid',\n",
              " 'show',\n",
              " 'pulls',\n",
              " 'punches',\n",
              " 'regards',\n",
              " 'drugs',\n",
              " 'sex',\n",
              " 'violence',\n",
              " 'hardcore',\n",
              " 'classic',\n",
              " 'use',\n",
              " 'word',\n",
              " 'called',\n",
              " 'oz',\n",
              " 'nickname',\n",
              " 'given',\n",
              " 'oswald',\n",
              " 'maximum',\n",
              " 'security',\n",
              " 'state',\n",
              " 'penitentary',\n",
              " 'focuses',\n",
              " 'mainly',\n",
              " 'emerald',\n",
              " 'city',\n",
              " 'experimental',\n",
              " 'section',\n",
              " 'prison',\n",
              " 'cells',\n",
              " 'glass',\n",
              " 'fronts',\n",
              " 'face',\n",
              " 'inwards',\n",
              " 'privacy',\n",
              " 'high',\n",
              " 'agenda',\n",
              " 'em',\n",
              " 'city',\n",
              " 'home',\n",
              " 'many',\n",
              " 'aryans',\n",
              " 'muslims',\n",
              " 'gangstas',\n",
              " 'latinos',\n",
              " 'christians',\n",
              " 'italians',\n",
              " 'irish',\n",
              " 'scuffles',\n",
              " 'death',\n",
              " 'stares',\n",
              " 'dodgy',\n",
              " 'dealings',\n",
              " 'shady',\n",
              " 'agreements',\n",
              " 'never',\n",
              " 'far',\n",
              " 'away',\n",
              " 'would',\n",
              " 'say',\n",
              " 'main',\n",
              " 'appeal',\n",
              " 'show',\n",
              " 'due',\n",
              " 'fact',\n",
              " 'goes',\n",
              " 'shows',\n",
              " 'dare',\n",
              " 'forget',\n",
              " 'pretty',\n",
              " 'pictures',\n",
              " 'painted',\n",
              " 'mainstream',\n",
              " 'audiences',\n",
              " 'forget',\n",
              " 'charm',\n",
              " 'forget',\n",
              " 'romance',\n",
              " 'oz',\n",
              " 'mess',\n",
              " 'around',\n",
              " 'first',\n",
              " 'episode',\n",
              " 'ever',\n",
              " 'saw',\n",
              " 'struck',\n",
              " 'nasty',\n",
              " 'surreal',\n",
              " 'say',\n",
              " 'ready',\n",
              " 'watched',\n",
              " 'developed',\n",
              " 'taste',\n",
              " 'oz',\n",
              " 'got',\n",
              " 'accustomed',\n",
              " 'high',\n",
              " 'levels',\n",
              " 'graphic',\n",
              " 'violence',\n",
              " 'violence',\n",
              " 'injustice',\n",
              " 'crooked',\n",
              " 'guards',\n",
              " 'sold',\n",
              " 'nickel',\n",
              " 'inmates',\n",
              " 'kill',\n",
              " 'order',\n",
              " 'get',\n",
              " 'away',\n",
              " 'well',\n",
              " 'mannered',\n",
              " 'middle',\n",
              " 'class',\n",
              " 'inmates',\n",
              " 'turned',\n",
              " 'prison',\n",
              " 'bitches',\n",
              " 'due',\n",
              " 'lack',\n",
              " 'street',\n",
              " 'skills',\n",
              " 'prison',\n",
              " 'experience',\n",
              " 'watching',\n",
              " 'oz',\n",
              " 'may',\n",
              " 'become',\n",
              " 'comfortable',\n",
              " 'uncomfortable',\n",
              " 'viewing',\n",
              " 'thats',\n",
              " 'get',\n",
              " 'touch',\n",
              " 'darker',\n",
              " 'side']"
            ]
          },
          "metadata": {
            "tags": []
          },
          "execution_count": 47
        }
      ]
    },
    {
      "cell_type": "code",
      "metadata": {
        "id": "1SyKVrCXMFX8",
        "colab": {
          "base_uri": "https://localhost:8080/",
          "height": 152
        },
        "outputId": "451d1307-b17c-458a-9dfb-d6ae5bb0fa5e"
      },
      "source": [
        "def stem_txt(text):\r\n",
        "    ss = SnowballStemmer('english')\r\n",
        "    return \" \".join([ss.stem(w) for w in text])\r\n",
        "\r\n",
        "data.review = data.review.apply(stem_txt)\r\n",
        "data.review[0]"
      ],
      "execution_count": 48,
      "outputs": [
        {
          "output_type": "execute_result",
          "data": {
            "application/vnd.google.colaboratory.intrinsic+json": {
              "type": "string"
            },
            "text/plain": [
              "'one review mention watch 1 oz episod hook right exact happen first thing struck oz brutal unflinch scene violenc set right word go trust show faint heart timid show pull punch regard drug sex violenc hardcor classic use word call oz nicknam given oswald maximum secur state penitentari focus main emerald citi experiment section prison cell glass front face inward privaci high agenda em citi home mani aryan muslim gangsta latino christian italian irish scuffl death stare dodgi deal shadi agreement never far away would say main appeal show due fact goe show dare forget pretti pictur paint mainstream audienc forget charm forget romanc oz mess around first episod ever saw struck nasti surreal say readi watch develop tast oz got accustom high level graphic violenc violenc injustic crook guard sold nickel inmat kill order get away well manner middl class inmat turn prison bitch due lack street skill prison experi watch oz may becom comfort uncomfort view that get touch darker side'"
            ]
          },
          "metadata": {
            "tags": []
          },
          "execution_count": 48
        }
      ]
    },
    {
      "cell_type": "code",
      "metadata": {
        "id": "-kxxfucbMF2y",
        "colab": {
          "base_uri": "https://localhost:8080/",
          "height": 196
        },
        "outputId": "6f60ee9a-9b4b-497f-d759-a4535b80df6b"
      },
      "source": [
        "data.head()"
      ],
      "execution_count": 49,
      "outputs": [
        {
          "output_type": "execute_result",
          "data": {
            "text/html": [
              "<div>\n",
              "<style scoped>\n",
              "    .dataframe tbody tr th:only-of-type {\n",
              "        vertical-align: middle;\n",
              "    }\n",
              "\n",
              "    .dataframe tbody tr th {\n",
              "        vertical-align: top;\n",
              "    }\n",
              "\n",
              "    .dataframe thead th {\n",
              "        text-align: right;\n",
              "    }\n",
              "</style>\n",
              "<table border=\"1\" class=\"dataframe\">\n",
              "  <thead>\n",
              "    <tr style=\"text-align: right;\">\n",
              "      <th></th>\n",
              "      <th>review</th>\n",
              "      <th>sentiment</th>\n",
              "    </tr>\n",
              "  </thead>\n",
              "  <tbody>\n",
              "    <tr>\n",
              "      <th>0</th>\n",
              "      <td>one review mention watch 1 oz episod hook righ...</td>\n",
              "      <td>1</td>\n",
              "    </tr>\n",
              "    <tr>\n",
              "      <th>1</th>\n",
              "      <td>wonder littl product film techniqu unassum old...</td>\n",
              "      <td>1</td>\n",
              "    </tr>\n",
              "    <tr>\n",
              "      <th>2</th>\n",
              "      <td>thought wonder way spend time hot summer weeke...</td>\n",
              "      <td>1</td>\n",
              "    </tr>\n",
              "    <tr>\n",
              "      <th>3</th>\n",
              "      <td>basic famili littl boy jake think zombi closet...</td>\n",
              "      <td>0</td>\n",
              "    </tr>\n",
              "    <tr>\n",
              "      <th>4</th>\n",
              "      <td>petter mattei love time money visual stun film...</td>\n",
              "      <td>1</td>\n",
              "    </tr>\n",
              "  </tbody>\n",
              "</table>\n",
              "</div>"
            ],
            "text/plain": [
              "                                              review  sentiment\n",
              "0  one review mention watch 1 oz episod hook righ...          1\n",
              "1  wonder littl product film techniqu unassum old...          1\n",
              "2  thought wonder way spend time hot summer weeke...          1\n",
              "3  basic famili littl boy jake think zombi closet...          0\n",
              "4  petter mattei love time money visual stun film...          1"
            ]
          },
          "metadata": {
            "tags": []
          },
          "execution_count": 49
        }
      ]
    },
    {
      "cell_type": "code",
      "metadata": {
        "id": "9jruDdoVMIoR",
        "colab": {
          "base_uri": "https://localhost:8080/"
        },
        "outputId": "3636446a-30c0-48e0-8485-6356155b96a8"
      },
      "source": [
        "X = np.array(data.iloc[:,0].values)\r\n",
        "y = np.array(data.sentiment.values)\r\n",
        "cv = CountVectorizer(max_features = 1000)\r\n",
        "X = cv.fit_transform(data.review).toarray()\r\n",
        "print(\"X.shape = \",X.shape)\r\n",
        "print(\"y.shape = \",y.shape)"
      ],
      "execution_count": 50,
      "outputs": [
        {
          "output_type": "stream",
          "text": [
            "X.shape =  (7886, 1000)\n",
            "y.shape =  (7886,)\n"
          ],
          "name": "stdout"
        }
      ]
    },
    {
      "cell_type": "code",
      "metadata": {
        "id": "8pvvRw97MMd_",
        "colab": {
          "base_uri": "https://localhost:8080/"
        },
        "outputId": "ba8b48f5-16e5-4698-9873-2ff70e325b21"
      },
      "source": [
        "print(X)"
      ],
      "execution_count": 51,
      "outputs": [
        {
          "output_type": "stream",
          "text": [
            "[[0 0 0 ... 0 0 0]\n",
            " [0 0 0 ... 0 0 0]\n",
            " [0 0 0 ... 0 1 0]\n",
            " ...\n",
            " [1 0 0 ... 0 0 0]\n",
            " [0 0 0 ... 0 0 0]\n",
            " [0 0 0 ... 0 0 0]]\n"
          ],
          "name": "stdout"
        }
      ]
    },
    {
      "cell_type": "code",
      "metadata": {
        "id": "SVWLolKGMPRd",
        "colab": {
          "base_uri": "https://localhost:8080/"
        },
        "outputId": "38b2e3cb-7c0e-4115-fc88-8cb08bbdde49"
      },
      "source": [
        "trainx,testx,trainy,testy = train_test_split(X,y,test_size=0.2,random_state=9)\r\n",
        "print(\"Train shapes : X = {}, y = {}\".format(trainx.shape,trainy.shape))\r\n",
        "print(\"Test shapes : X = {}, y = {}\".format(testx.shape,testy.shape))"
      ],
      "execution_count": 52,
      "outputs": [
        {
          "output_type": "stream",
          "text": [
            "Train shapes : X = (6308, 1000), y = (6308,)\n",
            "Test shapes : X = (1578, 1000), y = (1578,)\n"
          ],
          "name": "stdout"
        }
      ]
    },
    {
      "cell_type": "code",
      "metadata": {
        "id": "GBWww_52MSPQ",
        "colab": {
          "base_uri": "https://localhost:8080/"
        },
        "outputId": "f8311b23-a5f3-4ee9-ec40-529eb1ff6fda"
      },
      "source": [
        "gnb,mnb,bnb = GaussianNB(),MultinomialNB(alpha=1.0,fit_prior=True),BernoulliNB(alpha=1.0,fit_prior=True)\r\n",
        "gnb.fit(trainx,trainy)\r\n",
        "mnb.fit(trainx,trainy)\r\n",
        "bnb.fit(trainx,trainy)"
      ],
      "execution_count": 53,
      "outputs": [
        {
          "output_type": "execute_result",
          "data": {
            "text/plain": [
              "BernoulliNB(alpha=1.0, binarize=0.0, class_prior=None, fit_prior=True)"
            ]
          },
          "metadata": {
            "tags": []
          },
          "execution_count": 53
        }
      ]
    },
    {
      "cell_type": "code",
      "metadata": {
        "id": "XYSfRZCoMUos"
      },
      "source": [
        "ypg = gnb.predict(testx)\r\n",
        "ypm = mnb.predict(testx)\r\n",
        "ypb = bnb.predict(testx)"
      ],
      "execution_count": 57,
      "outputs": []
    },
    {
      "cell_type": "code",
      "metadata": {
        "id": "kuEEqSxqMXtA",
        "colab": {
          "base_uri": "https://localhost:8080/"
        },
        "outputId": "d222a1c7-94bf-4539-eeb3-7233002bc408"
      },
      "source": [
        "print(\"Gaussian = \",accuracy_score(testy,ypg))\r\n",
        "print(\"Multinomial = \",accuracy_score(testy,ypm))\r\n",
        "print(\"Bernoulli = \",accuracy_score(testy,ypb))"
      ],
      "execution_count": 55,
      "outputs": [
        {
          "output_type": "stream",
          "text": [
            "Gaussian =  0.7775665399239544\n",
            "Multinomial =  0.8257287705956907\n",
            "Bernoulli =  0.8346007604562737\n"
          ],
          "name": "stdout"
        }
      ]
    },
    {
      "cell_type": "code",
      "metadata": {
        "id": "gUF_WBq5Ma26"
      },
      "source": [
        "pickle.dump(bnb,open('model1.pkl','wb'))"
      ],
      "execution_count": 58,
      "outputs": []
    },
    {
      "cell_type": "code",
      "metadata": {
        "id": "YQoEu45vMe4a"
      },
      "source": [
        "rev =  \"\"\"Terrible. Complete trash. Brainless tripe. Insulting to anyone who isn't an 8 year old fan boy. Im actually pretty disgusted that this movie is making the money it is - what does it say about the people who brainlessly hand over the hard earned cash to be 'entertained' in this fashion and then come here to leave a positive 8.8 review?? Oh yes, they are morons. Its the only sensible conclusion to draw. How anyone can rate this movie amongst the pantheon of great titles is beyond me.\r\n",
        "\r\n",
        "So trying to find something constructive to say about this title is hard...I enjoyed Iron Man? Tony Stark is an inspirational character in his own movies but here he is a pale shadow of that...About the only 'hook' this movie had into me was wondering when and if Iron Man would knock Captain America out...Oh how I wished he had :( What were these other characters anyways? Useless, bickering idiots who really couldn't organise happy times in a brewery. The film was a chaotic mish mash of action elements and failed 'set pieces'...\r\n",
        "\r\n",
        "I found the villain to be quite amusing.\r\n",
        "\r\n",
        "And now I give up. This movie is not robbing any more of my time but I felt I ought to contribute to restoring the obvious fake rating and reviews this movie has been getting on IMDb.\"\"\"\r\n",
        "f1 = clean(rev)\r\n",
        "f2 = is_special(f1)\r\n",
        "f3 = to_lower(f2)\r\n",
        "f4 = rem_stopwords(f3)\r\n",
        "f5 = stem_txt(f4)\r\n",
        "\r\n",
        "bow,words = [],word_tokenize(f5)\r\n",
        "for word in words:\r\n",
        "    bow.append(words.count(word))\r\n",
        "\r\n",
        "word_dict = cv.vocabulary_\r\n",
        "pickle.dump(word_dict,open('bow.pkl','wb'))"
      ],
      "execution_count": 59,
      "outputs": []
    },
    {
      "cell_type": "code",
      "metadata": {
        "id": "3twT1kLLMkTX"
      },
      "source": [
        "inp = []\r\n",
        "for i in word_dict:\r\n",
        "    inp.append(f5.count(i[0]))\r\n",
        "y_pred = bnb.predict(np.array(inp).reshape(1,1000))"
      ],
      "execution_count": 61,
      "outputs": []
    },
    {
      "cell_type": "code",
      "metadata": {
        "id": "-awW8lBZMpUy"
      },
      "source": [
        ""
      ],
      "execution_count": null,
      "outputs": []
    }
  ]
}