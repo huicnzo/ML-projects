{
  "nbformat": 4,
  "nbformat_minor": 0,
  "metadata": {
    "colab": {
      "name": "hate_speech",
      "provenance": []
    },
    "kernelspec": {
      "name": "python3",
      "display_name": "Python 3"
    }
  },
  "cells": [
    {
      "cell_type": "code",
      "metadata": {
        "colab": {
          "base_uri": "https://localhost:8080/"
        },
        "id": "6ANy0orT0esE",
        "outputId": "17c5a26d-fb22-4169-e6bd-2ee588ecc9d5"
      },
      "source": [
        "import pandas as pd\r\n",
        "train = pd.read_csv('/content/train.csv')\r\n",
        "print(\"Training Set:\"% train.columns, train.shape, len(train))\r\n",
        "test = pd.read_csv('/content/test.csv')\r\n",
        "print(\"Test Set:\"% test.columns, test.shape, len(test))"
      ],
      "execution_count": null,
      "outputs": [
        {
          "output_type": "stream",
          "text": [
            "Training Set: (31962, 3) 31962\n",
            "Test Set: (17197, 2) 17197\n"
          ],
          "name": "stdout"
        }
      ]
    },
    {
      "cell_type": "code",
      "metadata": {
        "id": "NCFoNI6M0oDk"
      },
      "source": [
        "import re\r\n",
        "def  clean_text(df, text_field):\r\n",
        "    df[text_field] = df[text_field].str.lower()\r\n",
        "    df[text_field] = df[text_field].apply(lambda elem: re.sub(r\"(@[A-Za-z0-9]+)|([^0-9A-Za-z \\t])|(\\w+:\\/\\/\\S+)|^rt|http.+?\", \"\", elem))  \r\n",
        "    return df\r\n",
        "test_clean = clean_text(test, \"tweet\")\r\n",
        "train_clean = clean_text(train, \"tweet\")\r\n"
      ],
      "execution_count": null,
      "outputs": []
    },
    {
      "cell_type": "code",
      "metadata": {
        "colab": {
          "base_uri": "https://localhost:8080/"
        },
        "id": "Y9MOifqL0r5n",
        "outputId": "90fc7174-9a69-4661-ead5-0a02e84ee571"
      },
      "source": [
        "from sklearn.utils import resample\r\n",
        "train_majority = train_clean[train_clean.label==0]\r\n",
        "train_minority = train_clean[train_clean.label==1]\r\n",
        "train_minority_upsampled = resample(train_minority, \r\n",
        "                                 replace=True,    \r\n",
        "                                 n_samples=len(train_majority),   \r\n",
        "                                 random_state=123)\r\n",
        "train_upsampled = pd.concat([train_minority_upsampled, train_majority])\r\n",
        "train_upsampled['label'].value_counts()"
      ],
      "execution_count": null,
      "outputs": [
        {
          "output_type": "execute_result",
          "data": {
            "text/plain": [
              "1    29720\n",
              "0    29720\n",
              "Name: label, dtype: int64"
            ]
          },
          "metadata": {
            "tags": []
          },
          "execution_count": 6
        }
      ]
    },
    {
      "cell_type": "code",
      "metadata": {
        "id": "RxEJGdSe0vMe"
      },
      "source": [
        "from sklearn.feature_extraction.text import TfidfVectorizer\r\n",
        "from sklearn.pipeline import Pipeline\r\n",
        "from sklearn.feature_extraction.text import CountVectorizer\r\n",
        "from sklearn.feature_extraction.text import TfidfTransformer\r\n",
        "from sklearn.linear_model import SGDClassifier\r\n",
        "pipeline_sgd = Pipeline([\r\n",
        "    ('vect', CountVectorizer()),\r\n",
        "    ('tfidf',  TfidfTransformer()),\r\n",
        "    ('nb', SGDClassifier()),])"
      ],
      "execution_count": null,
      "outputs": []
    },
    {
      "cell_type": "code",
      "metadata": {
        "id": "CW-EpPaF0yQK"
      },
      "source": [
        "from sklearn.model_selection import train_test_split\r\n",
        "X_train, X_test, y_train, y_test = train_test_split(train_upsampled['tweet'],\r\n",
        "                                                    train_upsampled['label'],random_state = 0)"
      ],
      "execution_count": null,
      "outputs": []
    },
    {
      "cell_type": "code",
      "metadata": {
        "colab": {
          "base_uri": "https://localhost:8080/"
        },
        "id": "_3D-pS-t01Nj",
        "outputId": "02e4282e-3688-461e-d995-a893ab497b3e"
      },
      "source": [
        "\r\n",
        "model = pipeline_sgd.fit(X_train, y_train)\r\n",
        "y_predict = model.predict(X_test)\r\n",
        "from sklearn.metrics import f1_score\r\n",
        "f1_score(y_test, y_predict)"
      ],
      "execution_count": null,
      "outputs": [
        {
          "output_type": "execute_result",
          "data": {
            "text/plain": [
              "0.9694666666666667"
            ]
          },
          "metadata": {
            "tags": []
          },
          "execution_count": 9
        }
      ]
    },
    {
      "cell_type": "code",
      "metadata": {
        "id": "ZKZbODUS05tR"
      },
      "source": [
        ""
      ],
      "execution_count": null,
      "outputs": []
    }
  ]
}